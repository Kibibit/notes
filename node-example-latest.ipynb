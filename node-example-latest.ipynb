{
 "cells": [
  {
   "cell_type": "code",
   "execution_count": 9,
   "metadata": {
    "scrolled": true,
    "tags": [
     "hide-output",
     "hide-cell"
    ]
   },
   "outputs": [
    {
     "name": "stdout",
     "output_type": "stream",
     "text": [
      "Requirement already satisfied: pixiedust in /opt/conda/lib/python3.7/site-packages (1.1.18)\n",
      "Requirement already satisfied: pixiedust_node in /opt/conda/lib/python3.7/site-packages (0.2.5)\n",
      "Requirement already satisfied: mpld3 in /opt/conda/lib/python3.7/site-packages (from pixiedust) (0.5.1)\n",
      "Requirement already satisfied: geojson in /opt/conda/lib/python3.7/site-packages (from pixiedust) (2.5.0)\n",
      "Requirement already satisfied: markdown in /opt/conda/lib/python3.7/site-packages (from pixiedust) (3.3.3)\n",
      "Requirement already satisfied: colour in /opt/conda/lib/python3.7/site-packages (from pixiedust) (0.1.5)\n",
      "Requirement already satisfied: lxml in /opt/conda/lib/python3.7/site-packages (from pixiedust) (4.6.1)\n",
      "Requirement already satisfied: requests in /opt/conda/lib/python3.7/site-packages (from pixiedust) (2.22.0)\n",
      "Requirement already satisfied: astunparse in /opt/conda/lib/python3.7/site-packages (from pixiedust) (1.6.3)\n",
      "Requirement already satisfied: ipython in /opt/conda/lib/python3.7/site-packages (from pixiedust_node) (7.11.1)\n",
      "Requirement already satisfied: pandas in /opt/conda/lib/python3.7/site-packages (from pixiedust_node) (1.1.4)\n",
      "Requirement already satisfied: matplotlib in /opt/conda/lib/python3.7/site-packages (from mpld3->pixiedust) (3.3.3)\n",
      "Requirement already satisfied: jinja2 in /opt/conda/lib/python3.7/site-packages (from mpld3->pixiedust) (2.11.0)\n",
      "Requirement already satisfied: importlib-metadata; python_version < \"3.8\" in /opt/conda/lib/python3.7/site-packages (from markdown->pixiedust) (1.5.0)\n",
      "Requirement already satisfied: urllib3!=1.25.0,!=1.25.1,<1.26,>=1.21.1 in /opt/conda/lib/python3.7/site-packages (from requests->pixiedust) (1.25.7)\n",
      "Requirement already satisfied: chardet<3.1.0,>=3.0.2 in /opt/conda/lib/python3.7/site-packages (from requests->pixiedust) (3.0.4)\n",
      "Requirement already satisfied: certifi>=2017.4.17 in /opt/conda/lib/python3.7/site-packages (from requests->pixiedust) (2019.11.28)\n",
      "Requirement already satisfied: idna<2.9,>=2.5 in /opt/conda/lib/python3.7/site-packages (from requests->pixiedust) (2.8)\n",
      "Requirement already satisfied: wheel<1.0,>=0.23.0 in /opt/conda/lib/python3.7/site-packages (from astunparse->pixiedust) (0.34.1)\n",
      "Requirement already satisfied: six<2.0,>=1.6.1 in /opt/conda/lib/python3.7/site-packages (from astunparse->pixiedust) (1.14.0)\n",
      "Requirement already satisfied: traitlets>=4.2 in /opt/conda/lib/python3.7/site-packages (from ipython->pixiedust_node) (4.3.3)\n",
      "Requirement already satisfied: pexpect; sys_platform != \"win32\" in /opt/conda/lib/python3.7/site-packages (from ipython->pixiedust_node) (4.8.0)\n",
      "Requirement already satisfied: setuptools>=18.5 in /opt/conda/lib/python3.7/site-packages (from ipython->pixiedust_node) (45.1.0.post20200119)\n",
      "Requirement already satisfied: jedi>=0.10 in /opt/conda/lib/python3.7/site-packages (from ipython->pixiedust_node) (0.16.0)\n",
      "Requirement already satisfied: prompt-toolkit!=3.0.0,!=3.0.1,<3.1.0,>=2.0.0 in /opt/conda/lib/python3.7/site-packages (from ipython->pixiedust_node) (3.0.3)\n",
      "Requirement already satisfied: pygments in /opt/conda/lib/python3.7/site-packages (from ipython->pixiedust_node) (2.5.2)\n",
      "Requirement already satisfied: pickleshare in /opt/conda/lib/python3.7/site-packages (from ipython->pixiedust_node) (0.7.5)\n",
      "Requirement already satisfied: decorator in /opt/conda/lib/python3.7/site-packages (from ipython->pixiedust_node) (4.4.1)\n",
      "Requirement already satisfied: backcall in /opt/conda/lib/python3.7/site-packages (from ipython->pixiedust_node) (0.1.0)\n",
      "Requirement already satisfied: pytz>=2017.2 in /opt/conda/lib/python3.7/site-packages (from pandas->pixiedust_node) (2020.4)\n",
      "Requirement already satisfied: numpy>=1.15.4 in /opt/conda/lib/python3.7/site-packages (from pandas->pixiedust_node) (1.19.4)\n",
      "Requirement already satisfied: python-dateutil>=2.7.3 in /opt/conda/lib/python3.7/site-packages (from pandas->pixiedust_node) (2.8.1)\n",
      "Requirement already satisfied: cycler>=0.10 in /opt/conda/lib/python3.7/site-packages (from matplotlib->mpld3->pixiedust) (0.10.0)\n",
      "Requirement already satisfied: pyparsing!=2.0.4,!=2.1.2,!=2.1.6,>=2.0.3 in /opt/conda/lib/python3.7/site-packages (from matplotlib->mpld3->pixiedust) (2.4.7)\n",
      "Requirement already satisfied: kiwisolver>=1.0.1 in /opt/conda/lib/python3.7/site-packages (from matplotlib->mpld3->pixiedust) (1.3.1)\n",
      "Requirement already satisfied: pillow>=6.2.0 in /opt/conda/lib/python3.7/site-packages (from matplotlib->mpld3->pixiedust) (8.0.1)\n",
      "Requirement already satisfied: MarkupSafe>=0.23 in /opt/conda/lib/python3.7/site-packages (from jinja2->mpld3->pixiedust) (1.1.1)\n",
      "Requirement already satisfied: zipp>=0.5 in /opt/conda/lib/python3.7/site-packages (from importlib-metadata; python_version < \"3.8\"->markdown->pixiedust) (2.1.0)\n",
      "Requirement already satisfied: ipython-genutils in /opt/conda/lib/python3.7/site-packages (from traitlets>=4.2->ipython->pixiedust_node) (0.2.0)\n",
      "Requirement already satisfied: ptyprocess>=0.5 in /opt/conda/lib/python3.7/site-packages (from pexpect; sys_platform != \"win32\"->ipython->pixiedust_node) (0.6.0)\n",
      "Requirement already satisfied: parso>=0.5.2 in /opt/conda/lib/python3.7/site-packages (from jedi>=0.10->ipython->pixiedust_node) (0.6.0)\n",
      "Requirement already satisfied: wcwidth in /opt/conda/lib/python3.7/site-packages (from prompt-toolkit!=3.0.0,!=3.0.1,<3.1.0,>=2.0.0->ipython->pixiedust_node) (0.1.8)\n",
      "Note: you may need to restart the kernel to use updated packages.\n"
     ]
    }
   ],
   "source": [
    "pip install pixiedust pixiedust_node"
   ]
  },
  {
   "cell_type": "markdown",
   "metadata": {},
   "source": [
    "# kibibit\n",
    "\n",
    "## Let's do some node.js inside a document!\n",
    "\n",
    "First thing first, we need to initialize node by running:"
   ]
  },
  {
   "cell_type": "code",
   "execution_count": 2,
   "metadata": {},
   "outputs": [
    {
     "name": "stdout",
     "output_type": "stream",
     "text": [
      "Pixiedust database opened successfully\n"
     ]
    },
    {
     "data": {
      "text/html": [
       "\n",
       "        <div style=\"margin:10px\">\n",
       "            <a href=\"https://github.com/ibm-watson-data-lab/pixiedust\" target=\"_new\">\n",
       "                <img src=\"https://github.com/ibm-watson-data-lab/pixiedust/raw/master/docs/_static/pd_icon32.png\" style=\"float:left;margin-right:10px\"/>\n",
       "            </a>\n",
       "            <span>Pixiedust version 1.1.18</span>\n",
       "        </div>\n",
       "        "
      ],
      "text/plain": [
       "<IPython.core.display.HTML object>"
      ]
     },
     "metadata": {},
     "output_type": "display_data"
    },
    {
     "data": {
      "text/html": [
       "\n",
       "            <div style=\"margin:10px\"> \n",
       "            <a href=\"https://github.com/ibm-cds-labs/pixiedust_node\" target=\"_new\"> \n",
       "            <img src=\"https://github.com/ibm-cds-labs/pixiedust_node/raw/master/docs/_images/pdn_icon32.png\" style=\"float:left;margin-right:10px\"/> \n",
       "            </a> \n",
       "            <span>Pixiedust Node.js</span> \n",
       "            </div> \n"
      ],
      "text/plain": [
       "<IPython.core.display.HTML object>"
      ]
     },
     "metadata": {},
     "output_type": "display_data"
    }
   ],
   "source": [
    "import pixiedust_node"
   ]
  },
  {
   "cell_type": "markdown",
   "metadata": {},
   "source": [
    "Now, we can run a node script by starting with `%%node` and writing a node script after that"
   ]
  },
  {
   "cell_type": "code",
   "execution_count": 10,
   "metadata": {},
   "outputs": [
    {
     "name": "stdout",
     "output_type": "stream",
     "text": [
      "\"Hello! I am k1b1b0t\"\n",
      "\"2020-11-18T15:55:16.264Z\"\n"
     ]
    }
   ],
   "source": [
    "%%node\n",
    "var username = 'k1b1b0t';\n",
    "print(`Hello! I am ${ username }`);\n",
    "print(new Date());"
   ]
  },
  {
   "cell_type": "markdown",
   "metadata": {},
   "source": [
    "## Node Modules\n",
    "Installing npm modules is as easy as:"
   ]
  },
  {
   "cell_type": "code",
   "execution_count": 11,
   "metadata": {},
   "outputs": [
    {
     "name": "stdout",
     "output_type": "stream",
     "text": [
      "/opt/conda/bin/npm install -s random-sentence\n",
      "+ random-sentence@1.0.4\n",
      "updated 1 package and audited 21 packages in 0.745s\n",
      "2 packages are looking for funding\n",
      "run `npm fund` for details\n",
      "found 0 vulnerabilities\n"
     ]
    }
   ],
   "source": [
    "npm.install('random-sentence')"
   ]
  },
  {
   "cell_type": "markdown",
   "metadata": {},
   "source": [
    "Then using it like so:"
   ]
  },
  {
   "cell_type": "code",
   "execution_count": 12,
   "metadata": {},
   "outputs": [
    {
     "name": "stdout",
     "output_type": "stream",
     "text": [
      "\"His oti ri cewol kandijuw wijhojok jisapi agfo ba cuvvi decaku kavre no si sut ojmik zifro.\"\n"
     ]
    }
   ],
   "source": [
    "%%node\n",
    "var randomSentence = require('random-sentence');\n",
    "print(randomSentence());"
   ]
  },
  {
   "cell_type": "markdown",
   "metadata": {},
   "source": [
    "## Available Functions for output\n",
    "Node.js functions are available to interact with the Notebook\n",
    "\n",
    "- print(x) - print out the value of variable x\n",
    "- display(x) - use Pixiedust's display function to visualise an array of data\n",
    "- store(x,'y') - turn a JavaScript array x into a Pandas data frame and store in Python variable y\n",
    "- html(x) - render HTML string x in a notebook cell\n",
    "- image(x) - render image URL x in a notebook cell\n",
    "- help() - show help"
   ]
  },
  {
   "cell_type": "markdown",
   "metadata": {},
   "source": [
    "## Some Examples (Drawing stuff and graphs)\n",
    "Because you can import whatever you want, you can draw graphs with libraries that generates them like `chart.js`, `d3.js`, and `quiche`:"
   ]
  },
  {
   "cell_type": "code",
   "execution_count": 13,
   "metadata": {},
   "outputs": [
    {
     "name": "stdout",
     "output_type": "stream",
     "text": [
      "/opt/conda/bin/npm install -s quiche\n",
      "+ quiche@0.3.0\n",
      "updated 1 package and audited 21 packages in 1.387s\n",
      "2 packages are looking for funding\n",
      "run `npm fund` for details\n",
      "found 0 vulnerabilities\n"
     ]
    }
   ],
   "source": [
    "npm.install('quiche');"
   ]
  },
  {
   "cell_type": "code",
   "execution_count": 14,
   "metadata": {},
   "outputs": [
    {
     "data": {
      "text/html": [
       "<img src=\"http://chart.googleapis.com/chart?cht=qr&chs=200x200&choe=UTF-8&chl=https%3A%2F%2Fgithub.com%2Fibm-cds-labs%2Fpixiedust_node&chld=L%7C0\" />"
      ],
      "text/plain": [
       "<IPython.core.display.HTML object>"
      ]
     },
     "metadata": {},
     "output_type": "display_data"
    }
   ],
   "source": [
    "%%node\n",
    "var quiche = require('quiche');\n",
    "var qr = quiche('qr');\n",
    "qr.setLabel('https://github.com/ibm-cds-labs/pixiedust_node');\n",
    "image(qr.getUrl());"
   ]
  },
  {
   "cell_type": "code",
   "execution_count": 15,
   "metadata": {},
   "outputs": [
    {
     "data": {
      "text/html": [
       "<img src=\"http://chart.googleapis.com/chart?cht=bvs&chtt=Some%20title%20or%20something&chd=t%3A19%2C19%2C21%2C14%2C19%2C11%2C10%2C18%2C19%2C30%7C4%2C3%2C2%2C3%2C0%2C0%2C3%2C4%2C2%2C2%7C10%2C8%2C2%2C1%2C18%2C9%2C20%2C21%2C19%2C11%7C2%2C1%2C1%2C1%2C1%2C7%2C3%2C6%2C2%2C7%7C1%2C0%2C0%2C1%2C2%2C1%2C0%2C0%2C0%2C0&chco=FF3860%2C209CEE%2C00D1B2%2C48C774%2CFFDD57&chdl=Foo%7Cbar%7Cbin%7Cbash%7Cblah&chds=a&chxt=y%2Cx&chxl=1%3A%7C1%7C2%7C3%7C4%7C5%7C6%7C7%7C8%7C9%7C10&chbh=a%2C6%2C0&chdlp=b%7Cl&chs=400x265&chf=bg%2Cs%2C00000000\" />"
      ],
      "text/plain": [
       "<IPython.core.display.HTML object>"
      ]
     },
     "metadata": {},
     "output_type": "display_data"
    }
   ],
   "source": [
    "%%node\n",
    "var Quiche = require('quiche');\n",
    "\n",
    " var bar = new Quiche('bar');\n",
    " bar.setWidth(400);\n",
    " bar.setHeight(265);\n",
    " bar.setTitle('Some title or something');\n",
    " bar.setBarStacked(); // Stacked chart\n",
    " bar.setBarWidth(0);\n",
    " bar.setBarSpacing(6); // 6 pixles between bars/groups\n",
    " bar.setLegendBottom(); // Put legend at bottom\n",
    " bar.setTransparentBackground(); // Make background transparent\n",
    "\n",
    " bar.addData([19, 19, 21, 14, 19, 11, 10, 18, 19, 30], 'Foo', 'FF3860');\n",
    " bar.addData([4, 3, 2, 3, 0, 0, 3, 4, 2, 2], 'bar', '209CEE');\n",
    " bar.addData([10, 8, 2, 1, 18, 9, 20, 21, 19, 11], 'bin', '00D1B2');\n",
    " bar.addData([2, 1, 1, 1, 1, 7, 3, 6, 2, 7], 'bash', '48C774');\n",
    " bar.addData([1, 0, 0, 1, 2, 1, 0, 0, 0, 0], 'blah', 'FFDD57');     \n",
    "\n",
    " bar.setAutoScaling(); // Auto scale y axis\n",
    " bar.addAxisLabels('x', ['1', '2', '3', '4', '5', '6', '7', '8', '9', '10']);\n",
    "\n",
    "image(bar.getUrl());"
   ]
  },
  {
   "cell_type": "code",
   "execution_count": null,
   "metadata": {},
   "outputs": [],
   "source": []
  }
 ],
 "metadata": {
  "kernelspec": {
   "display_name": "Python 3",
   "language": "python",
   "name": "python3"
  },
  "language_info": {
   "codemirror_mode": {
    "name": "ipython",
    "version": 3
   },
   "file_extension": ".py",
   "mimetype": "text/x-python",
   "name": "python",
   "nbconvert_exporter": "python",
   "pygments_lexer": "ipython3",
   "version": "3.7.4"
  }
 },
 "nbformat": 4,
 "nbformat_minor": 4
}
